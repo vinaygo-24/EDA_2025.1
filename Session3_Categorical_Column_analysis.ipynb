{
 "cells": [
  {
   "cell_type": "code",
   "execution_count": 12,
   "id": "4b784697-15a0-49d5-b1ab-bf115f53b282",
   "metadata": {},
   "outputs": [],
   "source": [
    "import numpy as np\n",
    "import pandas as pd\n",
    "import matplotlib.pyplot as plt\n",
    "import seaborn as sns"
   ]
  },
  {
   "cell_type": "code",
   "execution_count": 3,
   "id": "e91e2579-4ce2-45b8-a6a3-c86fea3bf12f",
   "metadata": {},
   "outputs": [],
   "source": [
    "visa_df = pd.read_csv(r\"C:\\Users\\vinay\\Documents\\Naresh IT\\Data_Files\\Visadataset.csv\")"
   ]
  },
  {
   "cell_type": "code",
   "execution_count": 4,
   "id": "cac56d85-4250-45c9-b9ee-a84210e95d9b",
   "metadata": {},
   "outputs": [],
   "source": [
    "cat = visa_df.select_dtypes(include='object').columns\n",
    "num = visa_df.select_dtypes(exclude='object').columns"
   ]
  },
  {
   "cell_type": "code",
   "execution_count": 5,
   "id": "d9e77f08-f984-46a3-b231-4222b9f47a3c",
   "metadata": {},
   "outputs": [
    {
     "data": {
      "text/plain": [
       "Index(['case_id', 'continent', 'education_of_employee', 'has_job_experience',\n",
       "       'requires_job_training', 'region_of_employment', 'unit_of_wage',\n",
       "       'full_time_position', 'case_status'],\n",
       "      dtype='object')"
      ]
     },
     "execution_count": 5,
     "metadata": {},
     "output_type": "execute_result"
    }
   ],
   "source": [
    "cat"
   ]
  },
  {
   "cell_type": "code",
   "execution_count": 6,
   "id": "0d59bbce-d610-4780-9de8-014014ac8f36",
   "metadata": {},
   "outputs": [
    {
     "data": {
      "text/plain": [
       "Index(['no_of_employees', 'yr_of_estab', 'prevailing_wage'], dtype='object')"
      ]
     },
     "execution_count": 6,
     "metadata": {},
     "output_type": "execute_result"
    }
   ],
   "source": [
    "num"
   ]
  },
  {
   "cell_type": "markdown",
   "id": "256fe304-9c70-4f01-9154-c02967df8014",
   "metadata": {},
   "source": [
    "### How to select the **COLUMN DATA** ##"
   ]
  },
  {
   "cell_type": "markdown",
   "id": "58660646-7988-4ac7-959f-4ea204c80672",
   "metadata": {},
   "source": [
    "- Series\n",
    "    - 1 Dimentional\n",
    "    - It gives only 1 Column\n",
    "- Data Frame\n",
    "    - 2 Dimentional\n",
    "    - It gives Multiple Columns"
   ]
  },
  {
   "cell_type": "code",
   "execution_count": 44,
   "id": "578f829d-c38e-45f5-b325-d24f4be131d1",
   "metadata": {},
   "outputs": [
    {
     "data": {
      "text/plain": [
       "0          Asia\n",
       "1          Asia\n",
       "2          Asia\n",
       "3          Asia\n",
       "4        Africa\n",
       "          ...  \n",
       "25475      Asia\n",
       "25476      Asia\n",
       "25477      Asia\n",
       "25478      Asia\n",
       "25479      Asia\n",
       "Name: continent, Length: 25480, dtype: object"
      ]
     },
     "execution_count": 44,
     "metadata": {},
     "output_type": "execute_result"
    }
   ],
   "source": [
    "visa_df.iloc[:,1] # Series"
   ]
  },
  {
   "cell_type": "markdown",
   "id": "2c873ab1-886c-461d-94da-7807c1e0fe06",
   "metadata": {},
   "source": [
    "**The above data is in SERIES type but we want it in DATA FRAME. So we use [] below**"
   ]
  },
  {
   "cell_type": "code",
   "execution_count": 46,
   "id": "53c99ab4-20f0-465d-8907-42d6022f2b23",
   "metadata": {},
   "outputs": [
    {
     "data": {
      "text/html": [
       "<div>\n",
       "<style scoped>\n",
       "    .dataframe tbody tr th:only-of-type {\n",
       "        vertical-align: middle;\n",
       "    }\n",
       "\n",
       "    .dataframe tbody tr th {\n",
       "        vertical-align: top;\n",
       "    }\n",
       "\n",
       "    .dataframe thead th {\n",
       "        text-align: right;\n",
       "    }\n",
       "</style>\n",
       "<table border=\"1\" class=\"dataframe\">\n",
       "  <thead>\n",
       "    <tr style=\"text-align: right;\">\n",
       "      <th></th>\n",
       "      <th>continent</th>\n",
       "    </tr>\n",
       "  </thead>\n",
       "  <tbody>\n",
       "    <tr>\n",
       "      <th>0</th>\n",
       "      <td>Asia</td>\n",
       "    </tr>\n",
       "    <tr>\n",
       "      <th>1</th>\n",
       "      <td>Asia</td>\n",
       "    </tr>\n",
       "    <tr>\n",
       "      <th>2</th>\n",
       "      <td>Asia</td>\n",
       "    </tr>\n",
       "    <tr>\n",
       "      <th>3</th>\n",
       "      <td>Asia</td>\n",
       "    </tr>\n",
       "    <tr>\n",
       "      <th>4</th>\n",
       "      <td>Africa</td>\n",
       "    </tr>\n",
       "    <tr>\n",
       "      <th>...</th>\n",
       "      <td>...</td>\n",
       "    </tr>\n",
       "    <tr>\n",
       "      <th>25475</th>\n",
       "      <td>Asia</td>\n",
       "    </tr>\n",
       "    <tr>\n",
       "      <th>25476</th>\n",
       "      <td>Asia</td>\n",
       "    </tr>\n",
       "    <tr>\n",
       "      <th>25477</th>\n",
       "      <td>Asia</td>\n",
       "    </tr>\n",
       "    <tr>\n",
       "      <th>25478</th>\n",
       "      <td>Asia</td>\n",
       "    </tr>\n",
       "    <tr>\n",
       "      <th>25479</th>\n",
       "      <td>Asia</td>\n",
       "    </tr>\n",
       "  </tbody>\n",
       "</table>\n",
       "<p>25480 rows × 1 columns</p>\n",
       "</div>"
      ],
      "text/plain": [
       "      continent\n",
       "0          Asia\n",
       "1          Asia\n",
       "2          Asia\n",
       "3          Asia\n",
       "4        Africa\n",
       "...         ...\n",
       "25475      Asia\n",
       "25476      Asia\n",
       "25477      Asia\n",
       "25478      Asia\n",
       "25479      Asia\n",
       "\n",
       "[25480 rows x 1 columns]"
      ]
     },
     "execution_count": 46,
     "metadata": {},
     "output_type": "execute_result"
    }
   ],
   "source": [
    "visa_df.iloc[:,[1]] # Data Frame"
   ]
  },
  {
   "cell_type": "code",
   "execution_count": 7,
   "id": "d55fd3f1-2e76-486f-ad5b-01bfca3f3416",
   "metadata": {},
   "outputs": [
    {
     "data": {
      "text/plain": [
       "0          Asia\n",
       "1          Asia\n",
       "2          Asia\n",
       "3          Asia\n",
       "4        Africa\n",
       "          ...  \n",
       "25475      Asia\n",
       "25476      Asia\n",
       "25477      Asia\n",
       "25478      Asia\n",
       "25479      Asia\n",
       "Name: continent, Length: 25480, dtype: object"
      ]
     },
     "execution_count": 7,
     "metadata": {},
     "output_type": "execute_result"
    }
   ],
   "source": [
    "visa_df.loc[:,'continent'] # Series"
   ]
  },
  {
   "cell_type": "code",
   "execution_count": 8,
   "id": "64ef51af-fe7f-49b9-9801-552f6594030d",
   "metadata": {},
   "outputs": [
    {
     "data": {
      "text/html": [
       "<div>\n",
       "<style scoped>\n",
       "    .dataframe tbody tr th:only-of-type {\n",
       "        vertical-align: middle;\n",
       "    }\n",
       "\n",
       "    .dataframe tbody tr th {\n",
       "        vertical-align: top;\n",
       "    }\n",
       "\n",
       "    .dataframe thead th {\n",
       "        text-align: right;\n",
       "    }\n",
       "</style>\n",
       "<table border=\"1\" class=\"dataframe\">\n",
       "  <thead>\n",
       "    <tr style=\"text-align: right;\">\n",
       "      <th></th>\n",
       "      <th>continent</th>\n",
       "    </tr>\n",
       "  </thead>\n",
       "  <tbody>\n",
       "    <tr>\n",
       "      <th>0</th>\n",
       "      <td>Asia</td>\n",
       "    </tr>\n",
       "    <tr>\n",
       "      <th>1</th>\n",
       "      <td>Asia</td>\n",
       "    </tr>\n",
       "    <tr>\n",
       "      <th>2</th>\n",
       "      <td>Asia</td>\n",
       "    </tr>\n",
       "    <tr>\n",
       "      <th>3</th>\n",
       "      <td>Asia</td>\n",
       "    </tr>\n",
       "    <tr>\n",
       "      <th>4</th>\n",
       "      <td>Africa</td>\n",
       "    </tr>\n",
       "    <tr>\n",
       "      <th>...</th>\n",
       "      <td>...</td>\n",
       "    </tr>\n",
       "    <tr>\n",
       "      <th>25475</th>\n",
       "      <td>Asia</td>\n",
       "    </tr>\n",
       "    <tr>\n",
       "      <th>25476</th>\n",
       "      <td>Asia</td>\n",
       "    </tr>\n",
       "    <tr>\n",
       "      <th>25477</th>\n",
       "      <td>Asia</td>\n",
       "    </tr>\n",
       "    <tr>\n",
       "      <th>25478</th>\n",
       "      <td>Asia</td>\n",
       "    </tr>\n",
       "    <tr>\n",
       "      <th>25479</th>\n",
       "      <td>Asia</td>\n",
       "    </tr>\n",
       "  </tbody>\n",
       "</table>\n",
       "<p>25480 rows × 1 columns</p>\n",
       "</div>"
      ],
      "text/plain": [
       "      continent\n",
       "0          Asia\n",
       "1          Asia\n",
       "2          Asia\n",
       "3          Asia\n",
       "4        Africa\n",
       "...         ...\n",
       "25475      Asia\n",
       "25476      Asia\n",
       "25477      Asia\n",
       "25478      Asia\n",
       "25479      Asia\n",
       "\n",
       "[25480 rows x 1 columns]"
      ]
     },
     "execution_count": 8,
     "metadata": {},
     "output_type": "execute_result"
    }
   ],
   "source": [
    "visa_df.loc[:,['continent']] # Data Frame"
   ]
  },
  {
   "cell_type": "code",
   "execution_count": 9,
   "id": "a63af15f-cb36-4274-a036-a9f767896105",
   "metadata": {},
   "outputs": [
    {
     "data": {
      "text/plain": [
       "0          Asia\n",
       "1          Asia\n",
       "2          Asia\n",
       "3          Asia\n",
       "4        Africa\n",
       "          ...  \n",
       "25475      Asia\n",
       "25476      Asia\n",
       "25477      Asia\n",
       "25478      Asia\n",
       "25479      Asia\n",
       "Name: continent, Length: 25480, dtype: object"
      ]
     },
     "execution_count": 9,
     "metadata": {},
     "output_type": "execute_result"
    }
   ],
   "source": [
    "visa_df['continent'] # Series"
   ]
  },
  {
   "cell_type": "code",
   "execution_count": 10,
   "id": "3dff4f75-ee09-4f4a-912b-1a3d60178857",
   "metadata": {},
   "outputs": [
    {
     "data": {
      "text/html": [
       "<div>\n",
       "<style scoped>\n",
       "    .dataframe tbody tr th:only-of-type {\n",
       "        vertical-align: middle;\n",
       "    }\n",
       "\n",
       "    .dataframe tbody tr th {\n",
       "        vertical-align: top;\n",
       "    }\n",
       "\n",
       "    .dataframe thead th {\n",
       "        text-align: right;\n",
       "    }\n",
       "</style>\n",
       "<table border=\"1\" class=\"dataframe\">\n",
       "  <thead>\n",
       "    <tr style=\"text-align: right;\">\n",
       "      <th></th>\n",
       "      <th>continent</th>\n",
       "    </tr>\n",
       "  </thead>\n",
       "  <tbody>\n",
       "    <tr>\n",
       "      <th>0</th>\n",
       "      <td>Asia</td>\n",
       "    </tr>\n",
       "    <tr>\n",
       "      <th>1</th>\n",
       "      <td>Asia</td>\n",
       "    </tr>\n",
       "    <tr>\n",
       "      <th>2</th>\n",
       "      <td>Asia</td>\n",
       "    </tr>\n",
       "    <tr>\n",
       "      <th>3</th>\n",
       "      <td>Asia</td>\n",
       "    </tr>\n",
       "    <tr>\n",
       "      <th>4</th>\n",
       "      <td>Africa</td>\n",
       "    </tr>\n",
       "    <tr>\n",
       "      <th>...</th>\n",
       "      <td>...</td>\n",
       "    </tr>\n",
       "    <tr>\n",
       "      <th>25475</th>\n",
       "      <td>Asia</td>\n",
       "    </tr>\n",
       "    <tr>\n",
       "      <th>25476</th>\n",
       "      <td>Asia</td>\n",
       "    </tr>\n",
       "    <tr>\n",
       "      <th>25477</th>\n",
       "      <td>Asia</td>\n",
       "    </tr>\n",
       "    <tr>\n",
       "      <th>25478</th>\n",
       "      <td>Asia</td>\n",
       "    </tr>\n",
       "    <tr>\n",
       "      <th>25479</th>\n",
       "      <td>Asia</td>\n",
       "    </tr>\n",
       "  </tbody>\n",
       "</table>\n",
       "<p>25480 rows × 1 columns</p>\n",
       "</div>"
      ],
      "text/plain": [
       "      continent\n",
       "0          Asia\n",
       "1          Asia\n",
       "2          Asia\n",
       "3          Asia\n",
       "4        Africa\n",
       "...         ...\n",
       "25475      Asia\n",
       "25476      Asia\n",
       "25477      Asia\n",
       "25478      Asia\n",
       "25479      Asia\n",
       "\n",
       "[25480 rows x 1 columns]"
      ]
     },
     "execution_count": 10,
     "metadata": {},
     "output_type": "execute_result"
    }
   ],
   "source": [
    "visa_df[['continent']] # Data frame"
   ]
  },
  {
   "cell_type": "code",
   "execution_count": 13,
   "id": "3e795d3b-f2f9-4674-a0a8-dd83c4e6b28c",
   "metadata": {},
   "outputs": [
    {
     "ename": "KeyError",
     "evalue": "('continent', 'case_id')",
     "output_type": "error",
     "traceback": [
      "\u001b[1;31m---------------------------------------------------------------------------\u001b[0m",
      "\u001b[1;31mKeyError\u001b[0m                                  Traceback (most recent call last)",
      "File \u001b[1;32m~\\anaconda3\\Lib\\site-packages\\pandas\\core\\indexes\\base.py:3812\u001b[0m, in \u001b[0;36mIndex.get_loc\u001b[1;34m(self, key)\u001b[0m\n\u001b[0;32m   3811\u001b[0m \u001b[38;5;28;01mtry\u001b[39;00m:\n\u001b[1;32m-> 3812\u001b[0m     \u001b[38;5;28;01mreturn\u001b[39;00m \u001b[38;5;28mself\u001b[39m\u001b[38;5;241m.\u001b[39m_engine\u001b[38;5;241m.\u001b[39mget_loc(casted_key)\n\u001b[0;32m   3813\u001b[0m \u001b[38;5;28;01mexcept\u001b[39;00m \u001b[38;5;167;01mKeyError\u001b[39;00m \u001b[38;5;28;01mas\u001b[39;00m err:\n",
      "File \u001b[1;32mpandas/_libs/index.pyx:167\u001b[0m, in \u001b[0;36mpandas._libs.index.IndexEngine.get_loc\u001b[1;34m()\u001b[0m\n",
      "File \u001b[1;32mpandas/_libs/index.pyx:196\u001b[0m, in \u001b[0;36mpandas._libs.index.IndexEngine.get_loc\u001b[1;34m()\u001b[0m\n",
      "File \u001b[1;32mpandas/_libs/hashtable_class_helper.pxi:7088\u001b[0m, in \u001b[0;36mpandas._libs.hashtable.PyObjectHashTable.get_item\u001b[1;34m()\u001b[0m\n",
      "File \u001b[1;32mpandas/_libs/hashtable_class_helper.pxi:7096\u001b[0m, in \u001b[0;36mpandas._libs.hashtable.PyObjectHashTable.get_item\u001b[1;34m()\u001b[0m\n",
      "\u001b[1;31mKeyError\u001b[0m: ('continent', 'case_id')",
      "\nThe above exception was the direct cause of the following exception:\n",
      "\u001b[1;31mKeyError\u001b[0m                                  Traceback (most recent call last)",
      "Cell \u001b[1;32mIn[13], line 1\u001b[0m\n\u001b[1;32m----> 1\u001b[0m visa_df[\u001b[38;5;124m'\u001b[39m\u001b[38;5;124mcontinent\u001b[39m\u001b[38;5;124m'\u001b[39m,\u001b[38;5;124m'\u001b[39m\u001b[38;5;124mcase_id\u001b[39m\u001b[38;5;124m'\u001b[39m]\n",
      "File \u001b[1;32m~\\anaconda3\\Lib\\site-packages\\pandas\\core\\frame.py:4107\u001b[0m, in \u001b[0;36mDataFrame.__getitem__\u001b[1;34m(self, key)\u001b[0m\n\u001b[0;32m   4105\u001b[0m \u001b[38;5;28;01mif\u001b[39;00m \u001b[38;5;28mself\u001b[39m\u001b[38;5;241m.\u001b[39mcolumns\u001b[38;5;241m.\u001b[39mnlevels \u001b[38;5;241m>\u001b[39m \u001b[38;5;241m1\u001b[39m:\n\u001b[0;32m   4106\u001b[0m     \u001b[38;5;28;01mreturn\u001b[39;00m \u001b[38;5;28mself\u001b[39m\u001b[38;5;241m.\u001b[39m_getitem_multilevel(key)\n\u001b[1;32m-> 4107\u001b[0m indexer \u001b[38;5;241m=\u001b[39m \u001b[38;5;28mself\u001b[39m\u001b[38;5;241m.\u001b[39mcolumns\u001b[38;5;241m.\u001b[39mget_loc(key)\n\u001b[0;32m   4108\u001b[0m \u001b[38;5;28;01mif\u001b[39;00m is_integer(indexer):\n\u001b[0;32m   4109\u001b[0m     indexer \u001b[38;5;241m=\u001b[39m [indexer]\n",
      "File \u001b[1;32m~\\anaconda3\\Lib\\site-packages\\pandas\\core\\indexes\\base.py:3819\u001b[0m, in \u001b[0;36mIndex.get_loc\u001b[1;34m(self, key)\u001b[0m\n\u001b[0;32m   3814\u001b[0m     \u001b[38;5;28;01mif\u001b[39;00m \u001b[38;5;28misinstance\u001b[39m(casted_key, \u001b[38;5;28mslice\u001b[39m) \u001b[38;5;129;01mor\u001b[39;00m (\n\u001b[0;32m   3815\u001b[0m         \u001b[38;5;28misinstance\u001b[39m(casted_key, abc\u001b[38;5;241m.\u001b[39mIterable)\n\u001b[0;32m   3816\u001b[0m         \u001b[38;5;129;01mand\u001b[39;00m \u001b[38;5;28many\u001b[39m(\u001b[38;5;28misinstance\u001b[39m(x, \u001b[38;5;28mslice\u001b[39m) \u001b[38;5;28;01mfor\u001b[39;00m x \u001b[38;5;129;01min\u001b[39;00m casted_key)\n\u001b[0;32m   3817\u001b[0m     ):\n\u001b[0;32m   3818\u001b[0m         \u001b[38;5;28;01mraise\u001b[39;00m InvalidIndexError(key)\n\u001b[1;32m-> 3819\u001b[0m     \u001b[38;5;28;01mraise\u001b[39;00m \u001b[38;5;167;01mKeyError\u001b[39;00m(key) \u001b[38;5;28;01mfrom\u001b[39;00m \u001b[38;5;21;01merr\u001b[39;00m\n\u001b[0;32m   3820\u001b[0m \u001b[38;5;28;01mexcept\u001b[39;00m \u001b[38;5;167;01mTypeError\u001b[39;00m:\n\u001b[0;32m   3821\u001b[0m     \u001b[38;5;66;03m# If we have a listlike key, _check_indexing_error will raise\u001b[39;00m\n\u001b[0;32m   3822\u001b[0m     \u001b[38;5;66;03m#  InvalidIndexError. Otherwise we fall through and re-raise\u001b[39;00m\n\u001b[0;32m   3823\u001b[0m     \u001b[38;5;66;03m#  the TypeError.\u001b[39;00m\n\u001b[0;32m   3824\u001b[0m     \u001b[38;5;28mself\u001b[39m\u001b[38;5;241m.\u001b[39m_check_indexing_error(key)\n",
      "\u001b[1;31mKeyError\u001b[0m: ('continent', 'case_id')"
     ]
    }
   ],
   "source": [
    "visa_df['continent','case_id'] # error because it needs to become a dataframe"
   ]
  },
  {
   "cell_type": "code",
   "execution_count": 14,
   "id": "363c7cd9-b296-4224-bd8b-dd9242fd6b34",
   "metadata": {},
   "outputs": [
    {
     "data": {
      "text/html": [
       "<div>\n",
       "<style scoped>\n",
       "    .dataframe tbody tr th:only-of-type {\n",
       "        vertical-align: middle;\n",
       "    }\n",
       "\n",
       "    .dataframe tbody tr th {\n",
       "        vertical-align: top;\n",
       "    }\n",
       "\n",
       "    .dataframe thead th {\n",
       "        text-align: right;\n",
       "    }\n",
       "</style>\n",
       "<table border=\"1\" class=\"dataframe\">\n",
       "  <thead>\n",
       "    <tr style=\"text-align: right;\">\n",
       "      <th></th>\n",
       "      <th>continent</th>\n",
       "      <th>case_id</th>\n",
       "    </tr>\n",
       "  </thead>\n",
       "  <tbody>\n",
       "    <tr>\n",
       "      <th>0</th>\n",
       "      <td>Asia</td>\n",
       "      <td>EZYV01</td>\n",
       "    </tr>\n",
       "    <tr>\n",
       "      <th>1</th>\n",
       "      <td>Asia</td>\n",
       "      <td>EZYV02</td>\n",
       "    </tr>\n",
       "    <tr>\n",
       "      <th>2</th>\n",
       "      <td>Asia</td>\n",
       "      <td>EZYV03</td>\n",
       "    </tr>\n",
       "    <tr>\n",
       "      <th>3</th>\n",
       "      <td>Asia</td>\n",
       "      <td>EZYV04</td>\n",
       "    </tr>\n",
       "    <tr>\n",
       "      <th>4</th>\n",
       "      <td>Africa</td>\n",
       "      <td>EZYV05</td>\n",
       "    </tr>\n",
       "    <tr>\n",
       "      <th>...</th>\n",
       "      <td>...</td>\n",
       "      <td>...</td>\n",
       "    </tr>\n",
       "    <tr>\n",
       "      <th>25475</th>\n",
       "      <td>Asia</td>\n",
       "      <td>EZYV25476</td>\n",
       "    </tr>\n",
       "    <tr>\n",
       "      <th>25476</th>\n",
       "      <td>Asia</td>\n",
       "      <td>EZYV25477</td>\n",
       "    </tr>\n",
       "    <tr>\n",
       "      <th>25477</th>\n",
       "      <td>Asia</td>\n",
       "      <td>EZYV25478</td>\n",
       "    </tr>\n",
       "    <tr>\n",
       "      <th>25478</th>\n",
       "      <td>Asia</td>\n",
       "      <td>EZYV25479</td>\n",
       "    </tr>\n",
       "    <tr>\n",
       "      <th>25479</th>\n",
       "      <td>Asia</td>\n",
       "      <td>EZYV25480</td>\n",
       "    </tr>\n",
       "  </tbody>\n",
       "</table>\n",
       "<p>25480 rows × 2 columns</p>\n",
       "</div>"
      ],
      "text/plain": [
       "      continent    case_id\n",
       "0          Asia     EZYV01\n",
       "1          Asia     EZYV02\n",
       "2          Asia     EZYV03\n",
       "3          Asia     EZYV04\n",
       "4        Africa     EZYV05\n",
       "...         ...        ...\n",
       "25475      Asia  EZYV25476\n",
       "25476      Asia  EZYV25477\n",
       "25477      Asia  EZYV25478\n",
       "25478      Asia  EZYV25479\n",
       "25479      Asia  EZYV25480\n",
       "\n",
       "[25480 rows x 2 columns]"
      ]
     },
     "execution_count": 14,
     "metadata": {},
     "output_type": "execute_result"
    }
   ],
   "source": [
    "visa_df[['continent','case_id']]"
   ]
  },
  {
   "cell_type": "code",
   "execution_count": 15,
   "id": "31b17f53-ebb3-4386-bf12-4fd821172092",
   "metadata": {},
   "outputs": [
    {
     "data": {
      "text/plain": [
       "array(['Asia', 'Asia', 'Asia', ..., 'Asia', 'Asia', 'Asia'], dtype=object)"
      ]
     },
     "execution_count": 15,
     "metadata": {},
     "output_type": "execute_result"
    }
   ],
   "source": [
    "visa_df['continent'].values"
   ]
  },
  {
   "cell_type": "code",
   "execution_count": 16,
   "id": "fe0ab5c3-5b3f-48cc-8c2a-680c2e154c0a",
   "metadata": {},
   "outputs": [
    {
     "data": {
      "text/plain": [
       "1"
      ]
     },
     "execution_count": 16,
     "metadata": {},
     "output_type": "execute_result"
    }
   ],
   "source": [
    "visa_df['continent'].values.ndim"
   ]
  },
  {
   "cell_type": "code",
   "execution_count": 17,
   "id": "c7846704-9a3b-46d8-9046-bdeb1dad6b85",
   "metadata": {},
   "outputs": [
    {
     "data": {
      "text/plain": [
       "array([['Asia'],\n",
       "       ['Asia'],\n",
       "       ['Asia'],\n",
       "       ...,\n",
       "       ['Asia'],\n",
       "       ['Asia'],\n",
       "       ['Asia']], dtype=object)"
      ]
     },
     "execution_count": 17,
     "metadata": {},
     "output_type": "execute_result"
    }
   ],
   "source": [
    "visa_df[['continent']].values"
   ]
  },
  {
   "cell_type": "code",
   "execution_count": 18,
   "id": "190f6811-c5c0-403b-9630-43bcb099a737",
   "metadata": {},
   "outputs": [
    {
     "data": {
      "text/plain": [
       "2"
      ]
     },
     "execution_count": 18,
     "metadata": {},
     "output_type": "execute_result"
    }
   ],
   "source": [
    "visa_df[['continent']].values.ndim"
   ]
  },
  {
   "cell_type": "code",
   "execution_count": 19,
   "id": "fb56c2e3-3796-4283-be7f-fcbf2700c6c1",
   "metadata": {},
   "outputs": [
    {
     "name": "stdout",
     "output_type": "stream",
     "text": [
      "         case_id continent education_of_employee has_job_experience  \\\n",
      "0         EZYV01      Asia           High School                  N   \n",
      "1         EZYV02      Asia              Master's                  Y   \n",
      "2         EZYV03      Asia            Bachelor's                  N   \n",
      "3         EZYV04      Asia            Bachelor's                  N   \n",
      "4         EZYV05    Africa              Master's                  Y   \n",
      "...          ...       ...                   ...                ...   \n",
      "25475  EZYV25476      Asia            Bachelor's                  Y   \n",
      "25476  EZYV25477      Asia           High School                  Y   \n",
      "25477  EZYV25478      Asia              Master's                  Y   \n",
      "25478  EZYV25479      Asia              Master's                  Y   \n",
      "25479  EZYV25480      Asia            Bachelor's                  Y   \n",
      "\n",
      "      requires_job_training  no_of_employees  yr_of_estab  \\\n",
      "0                         N            14513         2007   \n",
      "1                         N             2412         2002   \n",
      "2                         Y            44444         2008   \n",
      "3                         N               98         1897   \n",
      "4                         N             1082         2005   \n",
      "...                     ...              ...          ...   \n",
      "25475                     Y             2601         2008   \n",
      "25476                     N             3274         2006   \n",
      "25477                     N             1121         1910   \n",
      "25478                     Y             1918         1887   \n",
      "25479                     N             3195         1960   \n",
      "\n",
      "      region_of_employment  prevailing_wage unit_of_wage full_time_position  \\\n",
      "0                     West         592.2029         Hour                  Y   \n",
      "1                Northeast       83425.6500         Year                  Y   \n",
      "2                     West      122996.8600         Year                  Y   \n",
      "3                     West       83434.0300         Year                  Y   \n",
      "4                    South      149907.3900         Year                  Y   \n",
      "...                    ...              ...          ...                ...   \n",
      "25475                South       77092.5700         Year                  Y   \n",
      "25476            Northeast      279174.7900         Year                  Y   \n",
      "25477                South      146298.8500         Year                  N   \n",
      "25478                 West       86154.7700         Year                  Y   \n",
      "25479              Midwest       70876.9100         Year                  Y   \n",
      "\n",
      "      case_status  \n",
      "0          Denied  \n",
      "1       Certified  \n",
      "2          Denied  \n",
      "3          Denied  \n",
      "4       Certified  \n",
      "...           ...  \n",
      "25475   Certified  \n",
      "25476   Certified  \n",
      "25477   Certified  \n",
      "25478   Certified  \n",
      "25479   Certified  \n",
      "\n",
      "[25480 rows x 12 columns]\n",
      "---------------------------\n",
      "0          Asia\n",
      "1          Asia\n",
      "2          Asia\n",
      "3          Asia\n",
      "4        Africa\n",
      "          ...  \n",
      "25475      Asia\n",
      "25476      Asia\n",
      "25477      Asia\n",
      "25478      Asia\n",
      "25479      Asia\n",
      "Name: continent, Length: 25480, dtype: object\n",
      "---------------------------\n",
      "['Asia' 'Asia' 'Asia' ... 'Asia' 'Asia' 'Asia']\n",
      "---------------------------\n",
      "Asia\n"
     ]
    }
   ],
   "source": [
    "print(visa_df) # All the Columns\n",
    "print('---------------------------') \n",
    "print(visa_df['continent']) # Specific in series\n",
    "print('---------------------------')\n",
    "print(visa_df['continent'].values) # Extract values of the columns\n",
    "print('---------------------------')\n",
    "print(visa_df['continent'].values[0]) #first value"
   ]
  },
  {
   "cell_type": "code",
   "execution_count": 20,
   "id": "b9af6f8a-2723-4e9b-8fc5-f7d09f5a5a26",
   "metadata": {},
   "outputs": [
    {
     "name": "stdout",
     "output_type": "stream",
     "text": [
      "[['Asia']\n",
      " ['Asia']\n",
      " ['Asia']\n",
      " ...\n",
      " ['Asia']\n",
      " ['Asia']\n",
      " ['Asia']]\n",
      "---------------------------\n",
      "['Asia']\n",
      "---------------------------\n",
      "Asia\n"
     ]
    }
   ],
   "source": [
    "print(visa_df[['continent']].values)\n",
    "print('---------------------------') \n",
    "print(visa_df[['continent']].values[0])\n",
    "print('---------------------------') \n",
    "print(visa_df[['continent']].values[0][0])"
   ]
  },
  {
   "cell_type": "code",
   "execution_count": 21,
   "id": "480dd741-2695-4ac3-9276-66eda06fa901",
   "metadata": {},
   "outputs": [
    {
     "name": "stdout",
     "output_type": "stream",
     "text": [
      "[['Asia' 'Denied']\n",
      " ['Asia' 'Certified']\n",
      " ['Asia' 'Denied']\n",
      " ...\n",
      " ['Asia' 'Certified']\n",
      " ['Asia' 'Certified']\n",
      " ['Asia' 'Certified']]\n",
      "---------------------------\n",
      "['Asia' 'Denied']\n",
      "---------------------------\n",
      "Asia\n",
      "---------------------------\n",
      "Denied\n"
     ]
    }
   ],
   "source": [
    "print(visa_df[['continent','case_status']].values)\n",
    "print('---------------------------') \n",
    "print(visa_df[['continent','case_status']].values[0])\n",
    "print('---------------------------') \n",
    "print(visa_df[['continent','case_status']].values[0][0])\n",
    "print('---------------------------') \n",
    "print(visa_df[['continent','case_status']].values[0][1])\n"
   ]
  },
  {
   "cell_type": "markdown",
   "id": "b1a44f97-8c86-423c-adc8-614f42579c31",
   "metadata": {},
   "source": [
    "### unique-nunique ###"
   ]
  },
  {
   "cell_type": "code",
   "execution_count": 22,
   "id": "62f0a4e8-43e1-4f70-bfd5-cf5ecaa1ae78",
   "metadata": {},
   "outputs": [
    {
     "data": {
      "text/plain": [
       "array(['Asia', 'Africa', 'North America', 'Europe', 'South America',\n",
       "       'Oceania'], dtype=object)"
      ]
     },
     "execution_count": 22,
     "metadata": {},
     "output_type": "execute_result"
    }
   ],
   "source": [
    "visa_df['continent'].unique()"
   ]
  },
  {
   "cell_type": "code",
   "execution_count": 23,
   "id": "9d892d44-e9f0-447c-a18c-0448a1d21020",
   "metadata": {},
   "outputs": [
    {
     "data": {
      "text/plain": [
       "6"
      ]
     },
     "execution_count": 23,
     "metadata": {},
     "output_type": "execute_result"
    }
   ],
   "source": [
    "visa_df['continent'].nunique()"
   ]
  },
  {
   "cell_type": "code",
   "execution_count": 24,
   "id": "38a89e73-f756-448d-adce-6699f2982f7e",
   "metadata": {},
   "outputs": [
    {
     "data": {
      "text/plain": [
       "25480"
      ]
     },
     "execution_count": 24,
     "metadata": {},
     "output_type": "execute_result"
    }
   ],
   "source": [
    "len(visa_df)"
   ]
  },
  {
   "cell_type": "markdown",
   "id": "fe68a99f-56f2-43d4-8c0e-753b1286ad89",
   "metadata": {},
   "source": [
    "## Frequency Table ##\n",
    "- How many applications from Asia etc same for all"
   ]
  },
  {
   "cell_type": "code",
   "execution_count": 25,
   "id": "b9dc8d1c-fc49-4e79-8ad8-c223380539d4",
   "metadata": {},
   "outputs": [
    {
     "name": "stdout",
     "output_type": "stream",
     "text": [
      "         case_id continent education_of_employee has_job_experience  \\\n",
      "0         EZYV01      Asia           High School                  N   \n",
      "1         EZYV02      Asia              Master's                  Y   \n",
      "2         EZYV03      Asia            Bachelor's                  N   \n",
      "3         EZYV04      Asia            Bachelor's                  N   \n",
      "5         EZYV06      Asia              Master's                  Y   \n",
      "...          ...       ...                   ...                ...   \n",
      "25475  EZYV25476      Asia            Bachelor's                  Y   \n",
      "25476  EZYV25477      Asia           High School                  Y   \n",
      "25477  EZYV25478      Asia              Master's                  Y   \n",
      "25478  EZYV25479      Asia              Master's                  Y   \n",
      "25479  EZYV25480      Asia            Bachelor's                  Y   \n",
      "\n",
      "      requires_job_training  no_of_employees  yr_of_estab  \\\n",
      "0                         N            14513         2007   \n",
      "1                         N             2412         2002   \n",
      "2                         Y            44444         2008   \n",
      "3                         N               98         1897   \n",
      "5                         N             2339         2012   \n",
      "...                     ...              ...          ...   \n",
      "25475                     Y             2601         2008   \n",
      "25476                     N             3274         2006   \n",
      "25477                     N             1121         1910   \n",
      "25478                     Y             1918         1887   \n",
      "25479                     N             3195         1960   \n",
      "\n",
      "      region_of_employment  prevailing_wage unit_of_wage full_time_position  \\\n",
      "0                     West         592.2029         Hour                  Y   \n",
      "1                Northeast       83425.6500         Year                  Y   \n",
      "2                     West      122996.8600         Year                  Y   \n",
      "3                     West       83434.0300         Year                  Y   \n",
      "5                    South       78252.1400         Year                  Y   \n",
      "...                    ...              ...          ...                ...   \n",
      "25475                South       77092.5700         Year                  Y   \n",
      "25476            Northeast      279174.7900         Year                  Y   \n",
      "25477                South      146298.8500         Year                  N   \n",
      "25478                 West       86154.7700         Year                  Y   \n",
      "25479              Midwest       70876.9100         Year                  Y   \n",
      "\n",
      "      case_status  \n",
      "0          Denied  \n",
      "1       Certified  \n",
      "2          Denied  \n",
      "3          Denied  \n",
      "5       Certified  \n",
      "...           ...  \n",
      "25475   Certified  \n",
      "25476   Certified  \n",
      "25477   Certified  \n",
      "25478   Certified  \n",
      "25479   Certified  \n",
      "\n",
      "[16861 rows x 12 columns]\n",
      "---------------------------\n"
     ]
    },
    {
     "data": {
      "text/plain": [
       "16861"
      ]
     },
     "execution_count": 25,
     "metadata": {},
     "output_type": "execute_result"
    }
   ],
   "source": [
    "condition = visa_df['continent']=='Asia'\n",
    "# The above line will return 'true' for the application with continent 'ASIA' and save it in 'Condition Variable'\n",
    "\n",
    "print(visa_df[condition])\n",
    "# here we are using that 'Condition' to print all the application with continent 'ASIA'\n",
    "print('---------------------------') \n",
    "\n",
    "len(visa_df[condition])"
   ]
  },
  {
   "cell_type": "code",
   "execution_count": 26,
   "id": "7d9756e0-579e-4d05-9cfa-da9088e9bb06",
   "metadata": {},
   "outputs": [
    {
     "data": {
      "text/plain": [
       "['Asia', 'Africa', 'North America', 'Europe', 'South America', 'Oceania']"
      ]
     },
     "execution_count": 26,
     "metadata": {},
     "output_type": "execute_result"
    }
   ],
   "source": [
    "count = []\n",
    "for i in visa_df['continent'].unique():\n",
    "    count.append(i)\n",
    "\n",
    "count"
   ]
  },
  {
   "cell_type": "code",
   "execution_count": 27,
   "id": "983e15b6-6b41-4886-b327-c478b21417e5",
   "metadata": {},
   "outputs": [
    {
     "name": "stdout",
     "output_type": "stream",
     "text": [
      "['Asia' 'Africa' 'North America' 'Europe' 'South America' 'Oceania'] [16861, 551, 3292, 3732, 852, 192]\n",
      "Asia  :  16861\n",
      "Africa  :  551\n",
      "North America  :  3292\n",
      "Europe  :  3732\n",
      "South America  :  852\n",
      "Oceania  :  192\n"
     ]
    }
   ],
   "source": [
    "count = []\n",
    "lable = visa_df['continent'].unique()\n",
    "for i in visa_df['continent'].unique():\n",
    "    condition = visa_df['continent']==i\n",
    "    value = len(visa_df[condition])\n",
    "    count.append(value)\n",
    "\n",
    "print(lable,count)\n",
    "\n",
    "for i,j in zip(lable,count):\n",
    "    print(f'{i}  :  {j}')"
   ]
  },
  {
   "cell_type": "code",
   "execution_count": 28,
   "id": "28469d2e-99d6-42fc-98e3-3f8508fbd5e9",
   "metadata": {},
   "outputs": [
    {
     "name": "stdout",
     "output_type": "stream",
     "text": [
      "{'Asia': 16861, 'Africa': 551, 'North America': 3292, 'Europe': 3732, 'South America': 852, 'Oceania': 192}\n"
     ]
    }
   ],
   "source": [
    "visa_dict = dict(zip(lable,count))\n",
    "print(visa_dict)"
   ]
  },
  {
   "cell_type": "code",
   "execution_count": 29,
   "id": "e169dfbb-1ed5-4c3f-8584-d3ea7010a261",
   "metadata": {},
   "outputs": [
    {
     "data": {
      "text/html": [
       "<div>\n",
       "<style scoped>\n",
       "    .dataframe tbody tr th:only-of-type {\n",
       "        vertical-align: middle;\n",
       "    }\n",
       "\n",
       "    .dataframe tbody tr th {\n",
       "        vertical-align: top;\n",
       "    }\n",
       "\n",
       "    .dataframe thead th {\n",
       "        text-align: right;\n",
       "    }\n",
       "</style>\n",
       "<table border=\"1\" class=\"dataframe\">\n",
       "  <thead>\n",
       "    <tr style=\"text-align: right;\">\n",
       "      <th></th>\n",
       "      <th>Class</th>\n",
       "      <th>Frequency</th>\n",
       "    </tr>\n",
       "  </thead>\n",
       "  <tbody>\n",
       "    <tr>\n",
       "      <th>1</th>\n",
       "      <td>Asia</td>\n",
       "      <td>16861</td>\n",
       "    </tr>\n",
       "    <tr>\n",
       "      <th>2</th>\n",
       "      <td>Africa</td>\n",
       "      <td>551</td>\n",
       "    </tr>\n",
       "    <tr>\n",
       "      <th>3</th>\n",
       "      <td>North America</td>\n",
       "      <td>3292</td>\n",
       "    </tr>\n",
       "    <tr>\n",
       "      <th>4</th>\n",
       "      <td>Europe</td>\n",
       "      <td>3732</td>\n",
       "    </tr>\n",
       "    <tr>\n",
       "      <th>5</th>\n",
       "      <td>South America</td>\n",
       "      <td>852</td>\n",
       "    </tr>\n",
       "    <tr>\n",
       "      <th>6</th>\n",
       "      <td>Oceania</td>\n",
       "      <td>192</td>\n",
       "    </tr>\n",
       "  </tbody>\n",
       "</table>\n",
       "</div>"
      ],
      "text/plain": [
       "           Class  Frequency\n",
       "1           Asia      16861\n",
       "2         Africa        551\n",
       "3  North America       3292\n",
       "4         Europe       3732\n",
       "5  South America        852\n",
       "6        Oceania        192"
      ]
     },
     "execution_count": 29,
     "metadata": {},
     "output_type": "execute_result"
    }
   ],
   "source": [
    "data = zip(lable,count)\n",
    "col = ['Class','Frequency']\n",
    "idx = [i for i in range(1,len(lable)+1)]\n",
    "\n",
    "pd.DataFrame(data,index=idx,columns=col)"
   ]
  },
  {
   "cell_type": "markdown",
   "id": "d21b16e3-89d4-4ca5-8673-2c5a0ff0f2ef",
   "metadata": {},
   "source": [
    "### value_counts() ###\n",
    "- It gives the 'Data' and 'Frequency' of the Data"
   ]
  },
  {
   "cell_type": "code",
   "execution_count": 30,
   "id": "308b39ea-915d-46fe-a7ba-ce39ef939998",
   "metadata": {},
   "outputs": [
    {
     "data": {
      "text/plain": [
       "continent\n",
       "Asia             16861\n",
       "Europe            3732\n",
       "North America     3292\n",
       "South America      852\n",
       "Africa             551\n",
       "Oceania            192\n",
       "Name: count, dtype: int64"
      ]
     },
     "execution_count": 30,
     "metadata": {},
     "output_type": "execute_result"
    }
   ],
   "source": [
    "visa_df['continent'].value_counts()"
   ]
  },
  {
   "cell_type": "code",
   "execution_count": 43,
   "id": "06b473ff-cddd-4080-930c-a9043465c256",
   "metadata": {},
   "outputs": [],
   "source": [
    "l =visa_df['continent'].value_counts().keys()"
   ]
  },
  {
   "cell_type": "code",
   "execution_count": 44,
   "id": "c9330f0d-106d-444f-8669-5149b8568f4c",
   "metadata": {},
   "outputs": [],
   "source": [
    "c = visa_df['continent'].value_counts().values"
   ]
  },
  {
   "cell_type": "code",
   "execution_count": 45,
   "id": "113d75d9-3c89-4039-bf2b-19992c580d44",
   "metadata": {},
   "outputs": [
    {
     "data": {
      "text/html": [
       "<div>\n",
       "<style scoped>\n",
       "    .dataframe tbody tr th:only-of-type {\n",
       "        vertical-align: middle;\n",
       "    }\n",
       "\n",
       "    .dataframe tbody tr th {\n",
       "        vertical-align: top;\n",
       "    }\n",
       "\n",
       "    .dataframe thead th {\n",
       "        text-align: right;\n",
       "    }\n",
       "</style>\n",
       "<table border=\"1\" class=\"dataframe\">\n",
       "  <thead>\n",
       "    <tr style=\"text-align: right;\">\n",
       "      <th></th>\n",
       "      <th>class</th>\n",
       "      <th>frequency</th>\n",
       "    </tr>\n",
       "  </thead>\n",
       "  <tbody>\n",
       "    <tr>\n",
       "      <th>0</th>\n",
       "      <td>Asia</td>\n",
       "      <td>16861</td>\n",
       "    </tr>\n",
       "    <tr>\n",
       "      <th>1</th>\n",
       "      <td>Europe</td>\n",
       "      <td>3732</td>\n",
       "    </tr>\n",
       "    <tr>\n",
       "      <th>2</th>\n",
       "      <td>North America</td>\n",
       "      <td>3292</td>\n",
       "    </tr>\n",
       "    <tr>\n",
       "      <th>3</th>\n",
       "      <td>South America</td>\n",
       "      <td>852</td>\n",
       "    </tr>\n",
       "    <tr>\n",
       "      <th>4</th>\n",
       "      <td>Africa</td>\n",
       "      <td>551</td>\n",
       "    </tr>\n",
       "    <tr>\n",
       "      <th>5</th>\n",
       "      <td>Oceania</td>\n",
       "      <td>192</td>\n",
       "    </tr>\n",
       "  </tbody>\n",
       "</table>\n",
       "</div>"
      ],
      "text/plain": [
       "           class  frequency\n",
       "0           Asia      16861\n",
       "1         Europe       3732\n",
       "2  North America       3292\n",
       "3  South America        852\n",
       "4         Africa        551\n",
       "5        Oceania        192"
      ]
     },
     "execution_count": 45,
     "metadata": {},
     "output_type": "execute_result"
    }
   ],
   "source": [
    "d1 = pd.DataFrame(zip(l,c),columns=['class','frequency'])\n",
    "d1"
   ]
  },
  {
   "cell_type": "markdown",
   "id": "bb030b0c-40e2-4a46-b12b-69dc996e282e",
   "metadata": {},
   "source": [
    "### normalize=True ###\n",
    "- It converts the 'Numbers' into 'Percentage'"
   ]
  },
  {
   "cell_type": "code",
   "execution_count": 294,
   "id": "72beea0d-76a7-4d25-a14f-27513f31c181",
   "metadata": {},
   "outputs": [
    {
     "data": {
      "text/plain": [
       "continent\n",
       "Asia             66.173469\n",
       "Europe           14.646782\n",
       "North America    12.919937\n",
       "South America     3.343799\n",
       "Africa            2.162480\n",
       "Oceania           0.753532\n",
       "Name: proportion, dtype: float64"
      ]
     },
     "execution_count": 294,
     "metadata": {},
     "output_type": "execute_result"
    }
   ],
   "source": [
    "d2 = visa_df['continent'].value_counts(normalize=True)\n",
    "d2*100"
   ]
  },
  {
   "cell_type": "code",
   "execution_count": 315,
   "id": "396dea24-e448-4389-a8b3-25e5ac0f0be9",
   "metadata": {},
   "outputs": [],
   "source": [
    "continent_df = visa_df['continent'].value_counts()"
   ]
  },
  {
   "cell_type": "code",
   "execution_count": 317,
   "id": "accc2f93-9ee8-4521-938e-a0f49103cdf5",
   "metadata": {},
   "outputs": [
    {
     "data": {
      "text/html": [
       "<div>\n",
       "<style scoped>\n",
       "    .dataframe tbody tr th:only-of-type {\n",
       "        vertical-align: middle;\n",
       "    }\n",
       "\n",
       "    .dataframe tbody tr th {\n",
       "        vertical-align: top;\n",
       "    }\n",
       "\n",
       "    .dataframe thead th {\n",
       "        text-align: right;\n",
       "    }\n",
       "</style>\n",
       "<table border=\"1\" class=\"dataframe\">\n",
       "  <thead>\n",
       "    <tr style=\"text-align: right;\">\n",
       "      <th></th>\n",
       "      <th>continent</th>\n",
       "      <th>count</th>\n",
       "    </tr>\n",
       "  </thead>\n",
       "  <tbody>\n",
       "    <tr>\n",
       "      <th>0</th>\n",
       "      <td>Asia</td>\n",
       "      <td>16861</td>\n",
       "    </tr>\n",
       "    <tr>\n",
       "      <th>1</th>\n",
       "      <td>Europe</td>\n",
       "      <td>3732</td>\n",
       "    </tr>\n",
       "    <tr>\n",
       "      <th>2</th>\n",
       "      <td>North America</td>\n",
       "      <td>3292</td>\n",
       "    </tr>\n",
       "    <tr>\n",
       "      <th>3</th>\n",
       "      <td>South America</td>\n",
       "      <td>852</td>\n",
       "    </tr>\n",
       "    <tr>\n",
       "      <th>4</th>\n",
       "      <td>Africa</td>\n",
       "      <td>551</td>\n",
       "    </tr>\n",
       "    <tr>\n",
       "      <th>5</th>\n",
       "      <td>Oceania</td>\n",
       "      <td>192</td>\n",
       "    </tr>\n",
       "  </tbody>\n",
       "</table>\n",
       "</div>"
      ],
      "text/plain": [
       "       continent  count\n",
       "0           Asia  16861\n",
       "1         Europe   3732\n",
       "2  North America   3292\n",
       "3  South America    852\n",
       "4         Africa    551\n",
       "5        Oceania    192"
      ]
     },
     "execution_count": 317,
     "metadata": {},
     "output_type": "execute_result"
    }
   ],
   "source": [
    "pd.DataFrame(continent_df).reset_index()"
   ]
  },
  {
   "cell_type": "markdown",
   "id": "aa0ad407-d99b-4ca3-af9d-1de52750d4eb",
   "metadata": {},
   "source": [
    "### Bar Chart ###"
   ]
  },
  {
   "cell_type": "code",
   "execution_count": 46,
   "id": "56598669-3c1b-41ef-ae26-dc190042fb76",
   "metadata": {},
   "outputs": [
    {
     "data": {
      "text/plain": [
       "<BarContainer object of 6 artists>"
      ]
     },
     "execution_count": 46,
     "metadata": {},
     "output_type": "execute_result"
    },
    {
     "data": {
      "image/png": "[encoded data removed]",
      "text/plain": [
       "<Figure size 640x480 with 1 Axes>"
      ]
     },
     "metadata": {},
     "output_type": "display_data"
    }
   ],
   "source": [
    "# Frequency table name = continent_df\n",
    "# class name = continent\n",
    "# frequency = count\n",
    "x_axis = visa_df['continent'].value_counts().keys()\n",
    "y_axis = visa_df['continent'].value_counts().values\n",
    "plt.bar(x_axis,y_axis)"
   ]
  },
  {
   "cell_type": "code",
   "execution_count": 420,
   "id": "4a634f8e-b2e2-485f-9f88-b73da5c40867",
   "metadata": {},
   "outputs": [
    {
     "data": {
      "image/png": "[encoded data removed]",
      "text/plain": [
       "<Figure size 1000x300 with 1 Axes>"
      ]
     },
     "metadata": {},
     "output_type": "display_data"
    }
   ],
   "source": [
    "x_axis = visa_df['continent'].value_counts().keys()\n",
    "y_axis = visa_df['continent'].value_counts().values\n",
    "plt.figure(figsize=(10,3))\n",
    "# width = 10, height = 3\n",
    "plt.bar(x_axis,y_axis)\n",
    "plt.xlabel('Continent')\n",
    "plt.ylabel('Frequency')\n",
    "plt.title('Bar Chart')\n",
    "# plt.savefig('continent.png') # To save the image in the Device\n",
    "plt.show() # Always at Last"
   ]
  },
  {
   "cell_type": "markdown",
   "id": "39d3d3b2-496d-4622-a4ca-16bd41ec0918",
   "metadata": {},
   "source": [
    "### Pi chart ###"
   ]
  },
  {
   "cell_type": "code",
   "execution_count": 489,
   "id": "f0f5a18f-8e04-4161-af57-74c52d354eb3",
   "metadata": {},
   "outputs": [
    {
     "data": {
      "image/png": "[encoded data removed]",
      "text/plain": [
       "<Figure size 640x480 with 1 Axes>"
      ]
     },
     "metadata": {},
     "output_type": "display_data"
    }
   ],
   "source": [
    "keys = visa_df['continent'].value_counts().keys()      # Lables\n",
    "values = visa_df['continent'].value_counts().values    # Values\n",
    "# percentage = visa_df['continent'].value_counts(normalize=True)*100\n",
    "plt.pie(values,                             # Data\n",
    "        labels=keys,                        # Column Name\n",
    "       autopct='%0.2f%%',                   # Percentage of Data\n",
    "       startangle=90,                       # Rotates the chart by angle\n",
    "       explode=[0.1,0.1,0.1,0.1,0.1,0.1],   # separates the chart\n",
    "       radius=2)                            # sets the radius of the chart\n",
    "plt.show()"
   ]
  },
  {
   "cell_type": "code",
   "execution_count": null,
   "id": "f7e7af48-6711-47cb-a22c-7fb506bd1cd6",
   "metadata": {},
   "outputs": [],
   "source": []
  }
 ],
 "metadata": {
  "kernelspec": {
   "display_name": "Python [conda env:base] *",
   "language": "python",
   "name": "conda-base-py"
  },
  "language_info": {
   "codemirror_mode": {
    "name": "ipython",
    "version": 3
   },
   "file_extension": ".py",
   "mimetype": "text/x-python",
   "name": "python",
   "nbconvert_exporter": "python",
   "pygments_lexer": "ipython3",
   "version": "3.12.11"
  }
 },
 "nbformat": 4,
 "nbformat_minor": 5
}
