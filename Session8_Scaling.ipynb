{
 "cells": [
  {
   "cell_type": "code",
   "execution_count": 1,
   "id": "bd1729fd-a224-49fe-b540-cd9aba6a581d",
   "metadata": {},
   "outputs": [
    {
     "data": {
      "text/html": [
       "<div>\n",
       "<style scoped>\n",
       "    .dataframe tbody tr th:only-of-type {\n",
       "        vertical-align: middle;\n",
       "    }\n",
       "\n",
       "    .dataframe tbody tr th {\n",
       "        vertical-align: top;\n",
       "    }\n",
       "\n",
       "    .dataframe thead th {\n",
       "        text-align: right;\n",
       "    }\n",
       "</style>\n",
       "<table border=\"1\" class=\"dataframe\">\n",
       "  <thead>\n",
       "    <tr style=\"text-align: right;\">\n",
       "      <th></th>\n",
       "      <th>case_id</th>\n",
       "      <th>continent</th>\n",
       "      <th>education_of_employee</th>\n",
       "      <th>has_job_experience</th>\n",
       "      <th>requires_job_training</th>\n",
       "      <th>no_of_employees</th>\n",
       "      <th>yr_of_estab</th>\n",
       "      <th>region_of_employment</th>\n",
       "      <th>prevailing_wage</th>\n",
       "      <th>unit_of_wage</th>\n",
       "      <th>full_time_position</th>\n",
       "      <th>case_status</th>\n",
       "    </tr>\n",
       "  </thead>\n",
       "  <tbody>\n",
       "    <tr>\n",
       "      <th>0</th>\n",
       "      <td>EZYV01</td>\n",
       "      <td>Asia</td>\n",
       "      <td>High School</td>\n",
       "      <td>N</td>\n",
       "      <td>N</td>\n",
       "      <td>14513</td>\n",
       "      <td>2007</td>\n",
       "      <td>West</td>\n",
       "      <td>592.2029</td>\n",
       "      <td>Hour</td>\n",
       "      <td>Y</td>\n",
       "      <td>Denied</td>\n",
       "    </tr>\n",
       "    <tr>\n",
       "      <th>1</th>\n",
       "      <td>EZYV02</td>\n",
       "      <td>Asia</td>\n",
       "      <td>Master's</td>\n",
       "      <td>Y</td>\n",
       "      <td>N</td>\n",
       "      <td>2412</td>\n",
       "      <td>2002</td>\n",
       "      <td>Northeast</td>\n",
       "      <td>83425.6500</td>\n",
       "      <td>Year</td>\n",
       "      <td>Y</td>\n",
       "      <td>Certified</td>\n",
       "    </tr>\n",
       "    <tr>\n",
       "      <th>2</th>\n",
       "      <td>EZYV03</td>\n",
       "      <td>Asia</td>\n",
       "      <td>Bachelor's</td>\n",
       "      <td>N</td>\n",
       "      <td>Y</td>\n",
       "      <td>44444</td>\n",
       "      <td>2008</td>\n",
       "      <td>West</td>\n",
       "      <td>122996.8600</td>\n",
       "      <td>Year</td>\n",
       "      <td>Y</td>\n",
       "      <td>Denied</td>\n",
       "    </tr>\n",
       "    <tr>\n",
       "      <th>3</th>\n",
       "      <td>EZYV04</td>\n",
       "      <td>Asia</td>\n",
       "      <td>Bachelor's</td>\n",
       "      <td>N</td>\n",
       "      <td>N</td>\n",
       "      <td>98</td>\n",
       "      <td>1897</td>\n",
       "      <td>West</td>\n",
       "      <td>83434.0300</td>\n",
       "      <td>Year</td>\n",
       "      <td>Y</td>\n",
       "      <td>Denied</td>\n",
       "    </tr>\n",
       "    <tr>\n",
       "      <th>4</th>\n",
       "      <td>EZYV05</td>\n",
       "      <td>Africa</td>\n",
       "      <td>Master's</td>\n",
       "      <td>Y</td>\n",
       "      <td>N</td>\n",
       "      <td>1082</td>\n",
       "      <td>2005</td>\n",
       "      <td>South</td>\n",
       "      <td>149907.3900</td>\n",
       "      <td>Year</td>\n",
       "      <td>Y</td>\n",
       "      <td>Certified</td>\n",
       "    </tr>\n",
       "    <tr>\n",
       "      <th>...</th>\n",
       "      <td>...</td>\n",
       "      <td>...</td>\n",
       "      <td>...</td>\n",
       "      <td>...</td>\n",
       "      <td>...</td>\n",
       "      <td>...</td>\n",
       "      <td>...</td>\n",
       "      <td>...</td>\n",
       "      <td>...</td>\n",
       "      <td>...</td>\n",
       "      <td>...</td>\n",
       "      <td>...</td>\n",
       "    </tr>\n",
       "    <tr>\n",
       "      <th>25475</th>\n",
       "      <td>EZYV25476</td>\n",
       "      <td>Asia</td>\n",
       "      <td>Bachelor's</td>\n",
       "      <td>Y</td>\n",
       "      <td>Y</td>\n",
       "      <td>2601</td>\n",
       "      <td>2008</td>\n",
       "      <td>South</td>\n",
       "      <td>77092.5700</td>\n",
       "      <td>Year</td>\n",
       "      <td>Y</td>\n",
       "      <td>Certified</td>\n",
       "    </tr>\n",
       "    <tr>\n",
       "      <th>25476</th>\n",
       "      <td>EZYV25477</td>\n",
       "      <td>Asia</td>\n",
       "      <td>High School</td>\n",
       "      <td>Y</td>\n",
       "      <td>N</td>\n",
       "      <td>3274</td>\n",
       "      <td>2006</td>\n",
       "      <td>Northeast</td>\n",
       "      <td>279174.7900</td>\n",
       "      <td>Year</td>\n",
       "      <td>Y</td>\n",
       "      <td>Certified</td>\n",
       "    </tr>\n",
       "    <tr>\n",
       "      <th>25477</th>\n",
       "      <td>EZYV25478</td>\n",
       "      <td>Asia</td>\n",
       "      <td>Master's</td>\n",
       "      <td>Y</td>\n",
       "      <td>N</td>\n",
       "      <td>1121</td>\n",
       "      <td>1910</td>\n",
       "      <td>South</td>\n",
       "      <td>146298.8500</td>\n",
       "      <td>Year</td>\n",
       "      <td>N</td>\n",
       "      <td>Certified</td>\n",
       "    </tr>\n",
       "    <tr>\n",
       "      <th>25478</th>\n",
       "      <td>EZYV25479</td>\n",
       "      <td>Asia</td>\n",
       "      <td>Master's</td>\n",
       "      <td>Y</td>\n",
       "      <td>Y</td>\n",
       "      <td>1918</td>\n",
       "      <td>1887</td>\n",
       "      <td>West</td>\n",
       "      <td>86154.7700</td>\n",
       "      <td>Year</td>\n",
       "      <td>Y</td>\n",
       "      <td>Certified</td>\n",
       "    </tr>\n",
       "    <tr>\n",
       "      <th>25479</th>\n",
       "      <td>EZYV25480</td>\n",
       "      <td>Asia</td>\n",
       "      <td>Bachelor's</td>\n",
       "      <td>Y</td>\n",
       "      <td>N</td>\n",
       "      <td>3195</td>\n",
       "      <td>1960</td>\n",
       "      <td>Midwest</td>\n",
       "      <td>70876.9100</td>\n",
       "      <td>Year</td>\n",
       "      <td>Y</td>\n",
       "      <td>Certified</td>\n",
       "    </tr>\n",
       "  </tbody>\n",
       "</table>\n",
       "<p>25480 rows × 12 columns</p>\n",
       "</div>"
      ],
      "text/plain": [
       "         case_id continent education_of_employee has_job_experience  \\\n",
       "0         EZYV01      Asia           High School                  N   \n",
       "1         EZYV02      Asia              Master's                  Y   \n",
       "2         EZYV03      Asia            Bachelor's                  N   \n",
       "3         EZYV04      Asia            Bachelor's                  N   \n",
       "4         EZYV05    Africa              Master's                  Y   \n",
       "...          ...       ...                   ...                ...   \n",
       "25475  EZYV25476      Asia            Bachelor's                  Y   \n",
       "25476  EZYV25477      Asia           High School                  Y   \n",
       "25477  EZYV25478      Asia              Master's                  Y   \n",
       "25478  EZYV25479      Asia              Master's                  Y   \n",
       "25479  EZYV25480      Asia            Bachelor's                  Y   \n",
       "\n",
       "      requires_job_training  no_of_employees  yr_of_estab  \\\n",
       "0                         N            14513         2007   \n",
       "1                         N             2412         2002   \n",
       "2                         Y            44444         2008   \n",
       "3                         N               98         1897   \n",
       "4                         N             1082         2005   \n",
       "...                     ...              ...          ...   \n",
       "25475                     Y             2601         2008   \n",
       "25476                     N             3274         2006   \n",
       "25477                     N             1121         1910   \n",
       "25478                     Y             1918         1887   \n",
       "25479                     N             3195         1960   \n",
       "\n",
       "      region_of_employment  prevailing_wage unit_of_wage full_time_position  \\\n",
       "0                     West         592.2029         Hour                  Y   \n",
       "1                Northeast       83425.6500         Year                  Y   \n",
       "2                     West      122996.8600         Year                  Y   \n",
       "3                     West       83434.0300         Year                  Y   \n",
       "4                    South      149907.3900         Year                  Y   \n",
       "...                    ...              ...          ...                ...   \n",
       "25475                South       77092.5700         Year                  Y   \n",
       "25476            Northeast      279174.7900         Year                  Y   \n",
       "25477                South      146298.8500         Year                  N   \n",
       "25478                 West       86154.7700         Year                  Y   \n",
       "25479              Midwest       70876.9100         Year                  Y   \n",
       "\n",
       "      case_status  \n",
       "0          Denied  \n",
       "1       Certified  \n",
       "2          Denied  \n",
       "3          Denied  \n",
       "4       Certified  \n",
       "...           ...  \n",
       "25475   Certified  \n",
       "25476   Certified  \n",
       "25477   Certified  \n",
       "25478   Certified  \n",
       "25479   Certified  \n",
       "\n",
       "[25480 rows x 12 columns]"
      ]
     },
     "execution_count": 1,
     "metadata": {},
     "output_type": "execute_result"
    }
   ],
   "source": [
    "import numpy as np\n",
    "import pandas as pd\n",
    "import matplotlib.pyplot as plt\n",
    "import seaborn as sns\n",
    "\n",
    "visa_df = pd.read_csv(r\"C:\\Users\\vinay\\Documents\\Naresh IT\\Data_Files\\Visadataset.csv\")\n",
    "cat = visa_df.select_dtypes(include='object').columns\n",
    "num = visa_df.select_dtypes(exclude='object').columns\n",
    "visa_df"
   ]
  },
  {
   "attachments": {},
   "cell_type": "markdown",
   "id": "c80a731d-d016-4830-aa45-44ea62ab6771",
   "metadata": {},
   "source": [
    "- we have two types of scaling\n",
    "    - Z score Scaling (Standardization)\n",
    "    - min-max Scaling (Normalization)"
   ]
  },
  {
   "cell_type": "markdown",
   "id": "caeb54d6-3ac7-42bd-a1d1-3770c69a08f1",
   "metadata": {},
   "source": [
    "## Z score Scaling (Standardization) ##\n",
    "\n",
    "- z = (x - μ) / σ, \n",
    "- where z = z-score\n",
    "- x = data\n",
    "- μ = mean\n",
    "- σ = standard\n",
    "\n",
    "- Step 1 : Take the prevaling wage Data\n",
    "- Step 2 : Calculate Mean of wage\n",
    "- Step 3 : Calculate SD of Mean\n",
    "- Step 4 : Nr = step 1 - step 2\n",
    "- Step 5 : z = step 4 / step 3"
   ]
  },
  {
   "cell_type": "code",
   "execution_count": 2,
   "id": "1aba819b-bfa0-414c-af11-af675c81551c",
   "metadata": {},
   "outputs": [
    {
     "data": {
      "text/plain": [
       "0       -1.398510\n",
       "1        0.169832\n",
       "2        0.919060\n",
       "3        0.169991\n",
       "4        1.428576\n",
       "           ...   \n",
       "25475    0.049923\n",
       "25476    3.876083\n",
       "25477    1.360253\n",
       "25478    0.221504\n",
       "25479   -0.067762\n",
       "Name: prevailing_wage_z, Length: 25480, dtype: float64"
      ]
     },
     "execution_count": 2,
     "metadata": {},
     "output_type": "execute_result"
    }
   ],
   "source": [
    "wage_data = visa_df['prevailing_wage']\n",
    "wage_mean = wage_data.mean()\n",
    "wage_sd = wage_data.std()\n",
    "wage_data_z = (wage_data-wage_mean)/wage_sd\n",
    "visa_df['prevailing_wage_z'] = wage_data_z\n",
    "visa_df['prevailing_wage_z']"
   ]
  },
  {
   "cell_type": "code",
   "execution_count": 3,
   "id": "cc087dab-8d8d-4a1c-a32b-c6f72bd75feb",
   "metadata": {},
   "outputs": [
    {
     "data": {
      "image/png": "[encoded data removed]",
      "text/plain": [
       "<Figure size 900x300 with 2 Axes>"
      ]
     },
     "metadata": {},
     "output_type": "display_data"
    }
   ],
   "source": [
    "# Histogram is not changed\n",
    "# Only the Data Values is Scaled Down\n",
    "# But the meaning of the data will not change\n",
    "\n",
    "plt.figure(figsize=(9,3))\n",
    "plt.subplot(1,2,1).hist(wage_data)\n",
    "plt.subplot(1,2,2).hist(wage_data_z)\n",
    "plt.show()"
   ]
  },
  {
   "cell_type": "markdown",
   "id": "92abf981-eb93-4cab-b9a8-b56891cce07f",
   "metadata": {},
   "source": [
    "- wage_data have a Maximum, Minimum value id\n",
    "- wage_data_z have a Maximum, Minimum value id"
   ]
  },
  {
   "cell_type": "code",
   "execution_count": 4,
   "id": "415ab5b7-e902-45aa-8fbe-134cc315c32d",
   "metadata": {},
   "outputs": [
    {
     "data": {
      "text/plain": [
       "(21077, 21077)"
      ]
     },
     "execution_count": 4,
     "metadata": {},
     "output_type": "execute_result"
    }
   ],
   "source": [
    "wage_data.idxmax(),wage_data_z.idxmax()"
   ]
  },
  {
   "cell_type": "code",
   "execution_count": 5,
   "id": "b4213eb3-2851-4427-bc49-e8c75414bc8e",
   "metadata": {},
   "outputs": [
    {
     "data": {
      "text/plain": [
       "(20575, 20575)"
      ]
     },
     "execution_count": 5,
     "metadata": {},
     "output_type": "execute_result"
    }
   ],
   "source": [
    "wage_data.idxmin(),wage_data_z.idxmin()"
   ]
  },
  {
   "cell_type": "markdown",
   "id": "76d13ce3-ba63-46e3-a9a2-55d6470b3d8c",
   "metadata": {},
   "source": [
    "- id = 21077 has maximum value for both data\n",
    "- id = 20575 has minimum value for both data"
   ]
  },
  {
   "cell_type": "code",
   "execution_count": 6,
   "id": "76b2fad3-d292-4bb4-82d6-f6e4c80e85db",
   "metadata": {},
   "outputs": [
    {
     "data": {
      "text/html": [
       "<div>\n",
       "<style scoped>\n",
       "    .dataframe tbody tr th:only-of-type {\n",
       "        vertical-align: middle;\n",
       "    }\n",
       "\n",
       "    .dataframe tbody tr th {\n",
       "        vertical-align: top;\n",
       "    }\n",
       "\n",
       "    .dataframe thead th {\n",
       "        text-align: right;\n",
       "    }\n",
       "</style>\n",
       "<table border=\"1\" class=\"dataframe\">\n",
       "  <thead>\n",
       "    <tr style=\"text-align: right;\">\n",
       "      <th></th>\n",
       "      <th>prevailing_wage</th>\n",
       "      <th>prevailing_wage_z</th>\n",
       "    </tr>\n",
       "  </thead>\n",
       "  <tbody>\n",
       "    <tr>\n",
       "      <th>21077</th>\n",
       "      <td>319210.2700</td>\n",
       "      <td>4.634102</td>\n",
       "    </tr>\n",
       "    <tr>\n",
       "      <th>20575</th>\n",
       "      <td>2.1367</td>\n",
       "      <td>-1.409682</td>\n",
       "    </tr>\n",
       "  </tbody>\n",
       "</table>\n",
       "</div>"
      ],
      "text/plain": [
       "       prevailing_wage  prevailing_wage_z\n",
       "21077      319210.2700           4.634102\n",
       "20575           2.1367          -1.409682"
      ]
     },
     "execution_count": 6,
     "metadata": {},
     "output_type": "execute_result"
    }
   ],
   "source": [
    "visa_df.iloc[[21077,20575]][['prevailing_wage','prevailing_wage_z']]"
   ]
  },
  {
   "cell_type": "code",
   "execution_count": 7,
   "id": "bdcb1c8e-b1b8-4e73-975f-d4e0fc95cdbb",
   "metadata": {},
   "outputs": [],
   "source": [
    "from sklearn.preprocessing import StandardScaler\n",
    "sc = StandardScaler()\n",
    "wage_data = pd.DataFrame(wage_data)\n",
    "wage_data_ss = sc.fit_transform(wage_data)\n",
    "visa_df['wage_data_ss'] = wage_data_ss"
   ]
  },
  {
   "cell_type": "code",
   "execution_count": 8,
   "id": "8b887286-4fb8-467c-9dda-da134747de33",
   "metadata": {},
   "outputs": [
    {
     "data": {
      "text/html": [
       "<div>\n",
       "<style scoped>\n",
       "    .dataframe tbody tr th:only-of-type {\n",
       "        vertical-align: middle;\n",
       "    }\n",
       "\n",
       "    .dataframe tbody tr th {\n",
       "        vertical-align: top;\n",
       "    }\n",
       "\n",
       "    .dataframe thead th {\n",
       "        text-align: right;\n",
       "    }\n",
       "</style>\n",
       "<table border=\"1\" class=\"dataframe\">\n",
       "  <thead>\n",
       "    <tr style=\"text-align: right;\">\n",
       "      <th></th>\n",
       "      <th>prevailing_wage</th>\n",
       "      <th>prevailing_wage_z</th>\n",
       "      <th>wage_data_ss</th>\n",
       "    </tr>\n",
       "  </thead>\n",
       "  <tbody>\n",
       "    <tr>\n",
       "      <th>0</th>\n",
       "      <td>592.2029</td>\n",
       "      <td>-1.398510</td>\n",
       "      <td>-1.398537</td>\n",
       "    </tr>\n",
       "    <tr>\n",
       "      <th>1</th>\n",
       "      <td>83425.6500</td>\n",
       "      <td>0.169832</td>\n",
       "      <td>0.169835</td>\n",
       "    </tr>\n",
       "    <tr>\n",
       "      <th>2</th>\n",
       "      <td>122996.8600</td>\n",
       "      <td>0.919060</td>\n",
       "      <td>0.919079</td>\n",
       "    </tr>\n",
       "    <tr>\n",
       "      <th>3</th>\n",
       "      <td>83434.0300</td>\n",
       "      <td>0.169991</td>\n",
       "      <td>0.169994</td>\n",
       "    </tr>\n",
       "    <tr>\n",
       "      <th>4</th>\n",
       "      <td>149907.3900</td>\n",
       "      <td>1.428576</td>\n",
       "      <td>1.428604</td>\n",
       "    </tr>\n",
       "    <tr>\n",
       "      <th>...</th>\n",
       "      <td>...</td>\n",
       "      <td>...</td>\n",
       "      <td>...</td>\n",
       "    </tr>\n",
       "    <tr>\n",
       "      <th>25475</th>\n",
       "      <td>77092.5700</td>\n",
       "      <td>0.049923</td>\n",
       "      <td>0.049924</td>\n",
       "    </tr>\n",
       "    <tr>\n",
       "      <th>25476</th>\n",
       "      <td>279174.7900</td>\n",
       "      <td>3.876083</td>\n",
       "      <td>3.876159</td>\n",
       "    </tr>\n",
       "    <tr>\n",
       "      <th>25477</th>\n",
       "      <td>146298.8500</td>\n",
       "      <td>1.360253</td>\n",
       "      <td>1.360280</td>\n",
       "    </tr>\n",
       "    <tr>\n",
       "      <th>25478</th>\n",
       "      <td>86154.7700</td>\n",
       "      <td>0.221504</td>\n",
       "      <td>0.221509</td>\n",
       "    </tr>\n",
       "    <tr>\n",
       "      <th>25479</th>\n",
       "      <td>70876.9100</td>\n",
       "      <td>-0.067762</td>\n",
       "      <td>-0.067763</td>\n",
       "    </tr>\n",
       "  </tbody>\n",
       "</table>\n",
       "<p>25480 rows × 3 columns</p>\n",
       "</div>"
      ],
      "text/plain": [
       "       prevailing_wage  prevailing_wage_z  wage_data_ss\n",
       "0             592.2029          -1.398510     -1.398537\n",
       "1           83425.6500           0.169832      0.169835\n",
       "2          122996.8600           0.919060      0.919079\n",
       "3           83434.0300           0.169991      0.169994\n",
       "4          149907.3900           1.428576      1.428604\n",
       "...                ...                ...           ...\n",
       "25475       77092.5700           0.049923      0.049924\n",
       "25476      279174.7900           3.876083      3.876159\n",
       "25477      146298.8500           1.360253      1.360280\n",
       "25478       86154.7700           0.221504      0.221509\n",
       "25479       70876.9100          -0.067762     -0.067763\n",
       "\n",
       "[25480 rows x 3 columns]"
      ]
     },
     "execution_count": 8,
     "metadata": {},
     "output_type": "execute_result"
    }
   ],
   "source": [
    "visa_df[['prevailing_wage','prevailing_wage_z','wage_data_ss']]"
   ]
  },
  {
   "cell_type": "code",
   "execution_count": 9,
   "id": "dcda0139-b05a-4c23-97e0-ff92397557b6",
   "metadata": {},
   "outputs": [
    {
     "data": {
      "text/html": [
       "<div>\n",
       "<style scoped>\n",
       "    .dataframe tbody tr th:only-of-type {\n",
       "        vertical-align: middle;\n",
       "    }\n",
       "\n",
       "    .dataframe tbody tr th {\n",
       "        vertical-align: top;\n",
       "    }\n",
       "\n",
       "    .dataframe thead th {\n",
       "        text-align: right;\n",
       "    }\n",
       "</style>\n",
       "<table border=\"1\" class=\"dataframe\">\n",
       "  <thead>\n",
       "    <tr style=\"text-align: right;\">\n",
       "      <th></th>\n",
       "      <th>prevailing_wage</th>\n",
       "      <th>prevailing_wage_z</th>\n",
       "      <th>wage_data_ss</th>\n",
       "    </tr>\n",
       "  </thead>\n",
       "  <tbody>\n",
       "    <tr>\n",
       "      <th>21077</th>\n",
       "      <td>319210.2700</td>\n",
       "      <td>4.634102</td>\n",
       "      <td>4.634193</td>\n",
       "    </tr>\n",
       "    <tr>\n",
       "      <th>20575</th>\n",
       "      <td>2.1367</td>\n",
       "      <td>-1.409682</td>\n",
       "      <td>-1.409710</td>\n",
       "    </tr>\n",
       "  </tbody>\n",
       "</table>\n",
       "</div>"
      ],
      "text/plain": [
       "       prevailing_wage  prevailing_wage_z  wage_data_ss\n",
       "21077      319210.2700           4.634102      4.634193\n",
       "20575           2.1367          -1.409682     -1.409710"
      ]
     },
     "execution_count": 9,
     "metadata": {},
     "output_type": "execute_result"
    }
   ],
   "source": [
    "visa_df.iloc[[21077,20575]][['prevailing_wage','prevailing_wage_z','wage_data_ss']]"
   ]
  },
  {
   "cell_type": "markdown",
   "id": "7057c17f-9530-456b-91a5-b7336f04aa40",
   "metadata": {},
   "source": [
    "## min-max Scaling (Normalization) ##"
   ]
  },
  {
   "cell_type": "markdown",
   "id": "821affbe-fa59-438e-9cf2-48bd1c2fb6c0",
   "metadata": {},
   "source": [
    "- normalized_value = (value - min_value) / (max_value - min_value)\n",
    "- value is the original data value\n",
    "- min_value is the minimum value in the dataset\n",
    "- max_value is the maximum value in the dataset."
   ]
  },
  {
   "cell_type": "code",
   "execution_count": 10,
   "id": "c83c3dd7-9603-4143-841b-5cd36faba392",
   "metadata": {},
   "outputs": [
    {
     "data": {
      "text/plain": [
       "0        0.001849\n",
       "1        0.261345\n",
       "2        0.385312\n",
       "3        0.261371\n",
       "4        0.469616\n",
       "           ...   \n",
       "25475    0.241505\n",
       "25476    0.874579\n",
       "25477    0.458311\n",
       "25478    0.269895\n",
       "25479    0.222033\n",
       "Name: min_max, Length: 25480, dtype: float64"
      ]
     },
     "execution_count": 10,
     "metadata": {},
     "output_type": "execute_result"
    }
   ],
   "source": [
    "wage_data = visa_df['prevailing_wage']\n",
    "x_min = wage_data.min()\n",
    "x_max = wage_data.max()\n",
    "min_max = (wage_data - x_min)/(x_max - x_min)\n",
    "visa_df['min_max'] = min_max\n",
    "visa_df['min_max']"
   ]
  },
  {
   "cell_type": "code",
   "execution_count": 11,
   "id": "8914842d-74b0-46d8-b260-83499d4d6a2c",
   "metadata": {},
   "outputs": [
    {
     "data": {
      "text/plain": [
       "0        0.001849\n",
       "1        0.261345\n",
       "2        0.385312\n",
       "3        0.261371\n",
       "4        0.469616\n",
       "           ...   \n",
       "25475    0.241505\n",
       "25476    0.874579\n",
       "25477    0.458311\n",
       "25478    0.269895\n",
       "25479    0.222033\n",
       "Name: min_max_ss, Length: 25480, dtype: float64"
      ]
     },
     "execution_count": 11,
     "metadata": {},
     "output_type": "execute_result"
    }
   ],
   "source": [
    "from sklearn.preprocessing import MinMaxScaler\n",
    "ms = MinMaxScaler()\n",
    "wage_data = pd.DataFrame(wage_data)\n",
    "min_max_ss = ms.fit_transform(wage_data)\n",
    "visa_df['min_max_ss'] = min_max_ss\n",
    "visa_df['min_max_ss']"
   ]
  },
  {
   "cell_type": "code",
   "execution_count": 12,
   "id": "bfada912-bc4c-4f59-996c-1eff0b6beaaf",
   "metadata": {},
   "outputs": [
    {
     "data": {
      "text/html": [
       "<div>\n",
       "<style scoped>\n",
       "    .dataframe tbody tr th:only-of-type {\n",
       "        vertical-align: middle;\n",
       "    }\n",
       "\n",
       "    .dataframe tbody tr th {\n",
       "        vertical-align: top;\n",
       "    }\n",
       "\n",
       "    .dataframe thead th {\n",
       "        text-align: right;\n",
       "    }\n",
       "</style>\n",
       "<table border=\"1\" class=\"dataframe\">\n",
       "  <thead>\n",
       "    <tr style=\"text-align: right;\">\n",
       "      <th></th>\n",
       "      <th>prevailing_wage</th>\n",
       "      <th>min_max</th>\n",
       "      <th>min_max_ss</th>\n",
       "    </tr>\n",
       "  </thead>\n",
       "  <tbody>\n",
       "    <tr>\n",
       "      <th>0</th>\n",
       "      <td>592.2029</td>\n",
       "      <td>0.001849</td>\n",
       "      <td>0.001849</td>\n",
       "    </tr>\n",
       "    <tr>\n",
       "      <th>1</th>\n",
       "      <td>83425.6500</td>\n",
       "      <td>0.261345</td>\n",
       "      <td>0.261345</td>\n",
       "    </tr>\n",
       "    <tr>\n",
       "      <th>2</th>\n",
       "      <td>122996.8600</td>\n",
       "      <td>0.385312</td>\n",
       "      <td>0.385312</td>\n",
       "    </tr>\n",
       "    <tr>\n",
       "      <th>3</th>\n",
       "      <td>83434.0300</td>\n",
       "      <td>0.261371</td>\n",
       "      <td>0.261371</td>\n",
       "    </tr>\n",
       "    <tr>\n",
       "      <th>4</th>\n",
       "      <td>149907.3900</td>\n",
       "      <td>0.469616</td>\n",
       "      <td>0.469616</td>\n",
       "    </tr>\n",
       "    <tr>\n",
       "      <th>...</th>\n",
       "      <td>...</td>\n",
       "      <td>...</td>\n",
       "      <td>...</td>\n",
       "    </tr>\n",
       "    <tr>\n",
       "      <th>25475</th>\n",
       "      <td>77092.5700</td>\n",
       "      <td>0.241505</td>\n",
       "      <td>0.241505</td>\n",
       "    </tr>\n",
       "    <tr>\n",
       "      <th>25476</th>\n",
       "      <td>279174.7900</td>\n",
       "      <td>0.874579</td>\n",
       "      <td>0.874579</td>\n",
       "    </tr>\n",
       "    <tr>\n",
       "      <th>25477</th>\n",
       "      <td>146298.8500</td>\n",
       "      <td>0.458311</td>\n",
       "      <td>0.458311</td>\n",
       "    </tr>\n",
       "    <tr>\n",
       "      <th>25478</th>\n",
       "      <td>86154.7700</td>\n",
       "      <td>0.269895</td>\n",
       "      <td>0.269895</td>\n",
       "    </tr>\n",
       "    <tr>\n",
       "      <th>25479</th>\n",
       "      <td>70876.9100</td>\n",
       "      <td>0.222033</td>\n",
       "      <td>0.222033</td>\n",
       "    </tr>\n",
       "  </tbody>\n",
       "</table>\n",
       "<p>25480 rows × 3 columns</p>\n",
       "</div>"
      ],
      "text/plain": [
       "       prevailing_wage   min_max  min_max_ss\n",
       "0             592.2029  0.001849    0.001849\n",
       "1           83425.6500  0.261345    0.261345\n",
       "2          122996.8600  0.385312    0.385312\n",
       "3           83434.0300  0.261371    0.261371\n",
       "4          149907.3900  0.469616    0.469616\n",
       "...                ...       ...         ...\n",
       "25475       77092.5700  0.241505    0.241505\n",
       "25476      279174.7900  0.874579    0.874579\n",
       "25477      146298.8500  0.458311    0.458311\n",
       "25478       86154.7700  0.269895    0.269895\n",
       "25479       70876.9100  0.222033    0.222033\n",
       "\n",
       "[25480 rows x 3 columns]"
      ]
     },
     "execution_count": 12,
     "metadata": {},
     "output_type": "execute_result"
    }
   ],
   "source": [
    "visa_df[['prevailing_wage','min_max','min_max_ss']]"
   ]
  },
  {
   "cell_type": "code",
   "execution_count": 13,
   "id": "772d845c-e20b-429c-9205-89527928f8f3",
   "metadata": {},
   "outputs": [
    {
     "data": {
      "text/html": [
       "<div>\n",
       "<style scoped>\n",
       "    .dataframe tbody tr th:only-of-type {\n",
       "        vertical-align: middle;\n",
       "    }\n",
       "\n",
       "    .dataframe tbody tr th {\n",
       "        vertical-align: top;\n",
       "    }\n",
       "\n",
       "    .dataframe thead th {\n",
       "        text-align: right;\n",
       "    }\n",
       "</style>\n",
       "<table border=\"1\" class=\"dataframe\">\n",
       "  <thead>\n",
       "    <tr style=\"text-align: right;\">\n",
       "      <th></th>\n",
       "      <th>prevailing_wage</th>\n",
       "      <th>min_max</th>\n",
       "      <th>min_max_ss</th>\n",
       "    </tr>\n",
       "  </thead>\n",
       "  <tbody>\n",
       "    <tr>\n",
       "      <th>21077</th>\n",
       "      <td>319210.2700</td>\n",
       "      <td>1.0</td>\n",
       "      <td>1.0</td>\n",
       "    </tr>\n",
       "    <tr>\n",
       "      <th>20575</th>\n",
       "      <td>2.1367</td>\n",
       "      <td>0.0</td>\n",
       "      <td>0.0</td>\n",
       "    </tr>\n",
       "  </tbody>\n",
       "</table>\n",
       "</div>"
      ],
      "text/plain": [
       "       prevailing_wage  min_max  min_max_ss\n",
       "21077      319210.2700      1.0         1.0\n",
       "20575           2.1367      0.0         0.0"
      ]
     },
     "execution_count": 13,
     "metadata": {},
     "output_type": "execute_result"
    }
   ],
   "source": [
    "visa_df.iloc[[21077,20575]][['prevailing_wage','min_max','min_max_ss']]"
   ]
  },
  {
   "cell_type": "code",
   "execution_count": null,
   "id": "5340d007-3779-4ef7-9559-e04e73b85f8c",
   "metadata": {},
   "outputs": [],
   "source": []
  },
  {
   "cell_type": "code",
   "execution_count": 14,
   "id": "61a81a1e-df8b-49ea-897d-21b754ae74de",
   "metadata": {},
   "outputs": [
    {
     "data": {
      "image/png": "[encoded data removed]",
      "text/plain": [
       "<Figure size 900x300 with 2 Axes>"
      ]
     },
     "metadata": {},
     "output_type": "display_data"
    }
   ],
   "source": [
    "plt.figure(figsize=(9,3))\n",
    "plt.subplot(1,2,1).hist(wage_data)\n",
    "plt.subplot(1,2,2).hist(min_max_ss)\n",
    "plt.show()"
   ]
  },
  {
   "cell_type": "code",
   "execution_count": 15,
   "id": "6fb11a50-c4f7-4733-9bc0-4b87defc6432",
   "metadata": {},
   "outputs": [
    {
     "data": {
      "image/png": "[encoded data removed]",
      "text/plain": [
       "<Figure size 900x300 with 2 Axes>"
      ]
     },
     "metadata": {},
     "output_type": "display_data"
    }
   ],
   "source": [
    "# Log Transform\n",
    "\n",
    "wage_data = pd.DataFrame(wage_data)\n",
    "log_transform = np.log(wage_data)\n",
    "visa_df['log_transform'] = log_transform\n",
    "\n",
    "plt.figure(figsize=(9,3))\n",
    "plt.subplot(1,2,1).hist(wage_data)\n",
    "plt.subplot(1,2,2).hist(log_transform,bins=100)\n",
    "plt.show()"
   ]
  },
  {
   "cell_type": "code",
   "execution_count": 16,
   "id": "a1b46481-eba5-4e57-8cf6-1c4263a85099",
   "metadata": {},
   "outputs": [
    {
     "data": {
      "image/png": "[encoded data removed]",
      "text/plain": [
       "<Figure size 900x300 with 2 Axes>"
      ]
     },
     "metadata": {},
     "output_type": "display_data"
    }
   ],
   "source": [
    "# Square Transformation\n",
    "\n",
    "wage_data = pd.DataFrame(wage_data)\n",
    "square_transform = np.square(wage_data)\n",
    "visa_df['square_transform'] = square_transform\n",
    "\n",
    "plt.figure(figsize=(9,3))\n",
    "plt.subplot(1,2,1).hist(wage_data)\n",
    "plt.subplot(1,2,2).hist(square_transform,bins=100)\n",
    "plt.show()"
   ]
  },
  {
   "cell_type": "code",
   "execution_count": 17,
   "id": "2d117553-76b0-46bd-922f-12d0d045b322",
   "metadata": {},
   "outputs": [
    {
     "data": {
      "image/png": "[encoded data removed]",
      "text/plain": [
       "<Figure size 900x300 with 2 Axes>"
      ]
     },
     "metadata": {},
     "output_type": "display_data"
    }
   ],
   "source": [
    "# Square Root Transformation\n",
    "\n",
    "wage_data = pd.DataFrame(wage_data)\n",
    "square_root_transform = np.sqrt(wage_data)\n",
    "visa_df['square_root_transform'] = square_root_transform\n",
    "\n",
    "plt.figure(figsize=(9,3))\n",
    "plt.subplot(1,2,1).hist(wage_data)\n",
    "plt.subplot(1,2,2).hist(square_root_transform,bins=100)\n",
    "plt.show()"
   ]
  },
  {
   "cell_type": "code",
   "execution_count": 18,
   "id": "cddf7431-b9a8-4b29-9ace-cd955d7885f0",
   "metadata": {},
   "outputs": [
    {
     "data": {
      "image/png": "[encoded data removed]",
      "text/plain": [
       "<Figure size 900x300 with 2 Axes>"
      ]
     },
     "metadata": {},
     "output_type": "display_data"
    }
   ],
   "source": [
    "# Receprocal Transformation\n",
    "wage_data = pd.DataFrame(wage_data)\n",
    "receprocal_transform = 1/(wage_data)\n",
    "visa_df['receprocal_transform'] = receprocal_transform\n",
    "\n",
    "plt.figure(figsize=(9,3))\n",
    "plt.subplot(1,2,1).hist(wage_data)\n",
    "plt.subplot(1,2,2).hist(receprocal_transform,bins=100)\n",
    "plt.show()"
   ]
  },
  {
   "cell_type": "code",
   "execution_count": 25,
   "id": "f77ef221-53e3-43f0-8144-8614cefb5ec2",
   "metadata": {},
   "outputs": [],
   "source": [
    "# # Exponential Transformation\n",
    "\n",
    "# wage_data = pd.DataFrame(wage_data)\n",
    "# exponential_transform = round(e**wage_data,2)\n",
    "# visa_df['exponential_transform'] = exponential_transform\n",
    "\n",
    "# plt.figure(figsize=(9,3))\n",
    "# plt.subplot(1,2,1).hist(wage_data)\n",
    "# plt.subplot(1,2,2).hist(exponential_transform,bins=100)\n",
    "# plt.show()"
   ]
  },
  {
   "cell_type": "code",
   "execution_count": null,
   "id": "6e31521e-2137-45b7-8a7a-55235d143ce5",
   "metadata": {},
   "outputs": [],
   "source": []
  }
 ],
 "metadata": {
  "kernelspec": {
   "display_name": "Python [conda env:base] *",
   "language": "python",
   "name": "conda-base-py"
  },
  "language_info": {
   "codemirror_mode": {
    "name": "ipython",
    "version": 3
   },
   "file_extension": ".py",
   "mimetype": "text/x-python",
   "name": "python",
   "nbconvert_exporter": "python",
   "pygments_lexer": "ipython3",
   "version": "3.12.11"
  }
 },
 "nbformat": 4,
 "nbformat_minor": 5
}
